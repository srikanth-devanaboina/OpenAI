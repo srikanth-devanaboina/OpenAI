{
 "cells": [
  {
   "cell_type": "markdown",
   "id": "1bc55a16",
   "metadata": {},
   "source": [
    "# Open AI request"
   ]
  },
  {
   "cell_type": "markdown",
   "id": "3b0a6e11",
   "metadata": {},
   "source": [
    "## Imports"
   ]
  },
  {
   "cell_type": "code",
   "execution_count": 1,
   "id": "d46e1b46",
   "metadata": {},
   "outputs": [],
   "source": [
    "from openai import OpenAI\n",
    "from datetime import datetime\n",
    "import prompt"
   ]
  },
  {
   "cell_type": "markdown",
   "id": "9159bac1",
   "metadata": {},
   "source": [
    "## Initialzation"
   ]
  },
  {
   "cell_type": "code",
   "execution_count": 2,
   "id": "b126fd70",
   "metadata": {},
   "outputs": [],
   "source": [
    "API_KEY = \"\"\n",
    "MODEL_NAME = \"gpt-4-1106-preview\"\n",
    "TEMP = 0\n",
    "client = OpenAI(api_key=API_KEY)"
   ]
  },
  {
   "cell_type": "markdown",
   "id": "10bc6d8f",
   "metadata": {},
   "source": [
    "## Request"
   ]
  },
  {
   "cell_type": "code",
   "execution_count": 3,
   "id": "d4c8065b",
   "metadata": {},
   "outputs": [],
   "source": [
    "prompt = [{\"role\":\"user\", \"content\":\"Why sky in blue color?\"}]"
   ]
  },
  {
   "cell_type": "code",
   "execution_count": 4,
   "id": "0245ea0d",
   "metadata": {},
   "outputs": [],
   "source": [
    "chat_completion = client.chat.completions.create(messages=prompt, model=MODEL_NAME)"
   ]
  },
  {
   "cell_type": "markdown",
   "id": "8f44baca",
   "metadata": {},
   "source": [
    "## Output"
   ]
  },
  {
   "cell_type": "code",
   "execution_count": 7,
   "id": "79b630c8",
   "metadata": {},
   "outputs": [],
   "source": [
    "chat_completion.choices[0].message.content"
   ]
  },
  {
   "cell_type": "code",
   "execution_count": null,
   "id": "eed4fecc",
   "metadata": {},
   "outputs": [],
   "source": [
    "\n"
   ]
  }
 ],
 "metadata": {
  "kernelspec": {
   "display_name": "Python 3 (ipykernel)",
   "language": "python",
   "name": "python3"
  },
  "language_info": {
   "codemirror_mode": {
    "name": "ipython",
    "version": 3
   },
   "file_extension": ".py",
   "mimetype": "text/x-python",
   "name": "python",
   "nbconvert_exporter": "python",
   "pygments_lexer": "ipython3",
   "version": "3.10.12"
  }
 },
 "nbformat": 4,
 "nbformat_minor": 5
}
