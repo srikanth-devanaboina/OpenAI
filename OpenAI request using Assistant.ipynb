{
 "cells": [
  {
   "cell_type": "markdown",
   "id": "ab61fcf7",
   "metadata": {},
   "source": [
    "# OpenAI request using Assistant"
   ]
  },
  {
   "cell_type": "markdown",
   "id": "a2c1a7a6",
   "metadata": {},
   "source": [
    "## Installation"
   ]
  },
  {
   "cell_type": "code",
   "execution_count": 24,
   "id": "759c8061",
   "metadata": {},
   "outputs": [],
   "source": [
    "# !pip install openai==1.2.0"
   ]
  },
  {
   "cell_type": "markdown",
   "id": "ae068e3e",
   "metadata": {},
   "source": [
    "## Imports"
   ]
  },
  {
   "cell_type": "code",
   "execution_count": 25,
   "id": "e99b9a9a",
   "metadata": {},
   "outputs": [],
   "source": [
    "from openai import OpenAI"
   ]
  },
  {
   "cell_type": "markdown",
   "id": "e2ea6291",
   "metadata": {},
   "source": [
    "## Initialzation"
   ]
  },
  {
   "cell_type": "code",
   "execution_count": 26,
   "id": "ba3944bf",
   "metadata": {},
   "outputs": [],
   "source": [
    "API_KEY = \"\"\n",
    "assistant_id=\"\"\n",
    "client = OpenAI(api_key = API_KEY)"
   ]
  },
  {
   "cell_type": "markdown",
   "id": "7d977e67",
   "metadata": {},
   "source": [
    "## Thread"
   ]
  },
  {
   "cell_type": "code",
   "execution_count": 27,
   "id": "1aa0d067",
   "metadata": {},
   "outputs": [
    {
     "data": {
      "text/plain": [
       "'thread_TP51ggi2MRDUYdq7MHdad4xn'"
      ]
     },
     "execution_count": 27,
     "metadata": {},
     "output_type": "execute_result"
    }
   ],
   "source": [
    "thread = client.beta.threads.create()\n",
    "thread.id"
   ]
  },
  {
   "cell_type": "markdown",
   "id": "8f0cbf8e",
   "metadata": {},
   "source": [
    "## Message"
   ]
  },
  {
   "cell_type": "code",
   "execution_count": 28,
   "id": "89faf6ac",
   "metadata": {},
   "outputs": [
    {
     "data": {
      "text/plain": [
       "'msg_TYhyJL7C9hySaJbeUwNxdEmi'"
      ]
     },
     "execution_count": 28,
     "metadata": {},
     "output_type": "execute_result"
    }
   ],
   "source": [
    "msg = client.beta.threads.messages.create(\n",
    "    thread_id = thread.id,\n",
    "    role = 'user',\n",
    "    content = \"What is the use of dustbin in home?\"\n",
    ")\n",
    "\n",
    "msg.id"
   ]
  },
  {
   "cell_type": "markdown",
   "id": "41cac147",
   "metadata": {},
   "source": [
    "## Run thread"
   ]
  },
  {
   "cell_type": "code",
   "execution_count": 29,
   "id": "af1c0a81",
   "metadata": {},
   "outputs": [
    {
     "data": {
      "text/plain": [
       "'run_QPzTNOSjSVH1g9bsH6hceanF'"
      ]
     },
     "execution_count": 29,
     "metadata": {},
     "output_type": "execute_result"
    }
   ],
   "source": [
    "run = client.beta.threads.runs.create(\n",
    "  thread_id=thread.id,\n",
    "  assistant_id=assistant_id\n",
    ")\n",
    "run.id"
   ]
  },
  {
   "cell_type": "markdown",
   "id": "454b83eb",
   "metadata": {},
   "source": [
    "## Retrieve message"
   ]
  },
  {
   "cell_type": "code",
   "execution_count": 43,
   "id": "afc5a116",
   "metadata": {},
   "outputs": [],
   "source": [
    "messages = client.beta.threads.messages.list(thread_id=thread.id)"
   ]
  },
  {
   "cell_type": "code",
   "execution_count": 44,
   "id": "0aac6d1c",
   "metadata": {},
   "outputs": [
    {
     "name": "stdout",
     "output_type": "stream",
     "text": [
      "A dustbin, also known as a trash can, garbage can, or rubbish bin, is used in homes to collect waste and refuse. Here are several key uses and purposes of a dustbin in a home:\n",
      "\n",
      "1. **Hygiene:** Dustbins are essential for maintaining cleanliness and hygiene within a home by providing a designated place for waste materials, thus preventing the spread of germs and bacteria.\n",
      "\n",
      "2. **Organization:** By separating waste from the living and working spaces, dustbins help to keep a home organized and free of clutter.\n",
      "\n",
      "3. **Odor Control:** Containing waste in a bin helps to minimize unpleasant odors that can emanate from garbage if it is not properly contained.\n",
      "\n",
      "4. **Recycling:** Many homes now use multiple bins to separate recyclable materials from non-recyclable waste, facilitating recycling efforts and environmental conservation.\n",
      "\n",
      "5. **Pest Control:** A sealed or covered dustbin can deter pests and animals from scavenging for food scraps, thus preventing them from entering the home.\n",
      "\n",
      "6. **Safety:** Proper disposal of potentially dangerous waste, such as broken glass or sharp objects, in a dustbin can protect household members from injury.\n",
      "\n",
      "Overall, dustbins play an important role in waste management within the home, helping to maintain the cleanliness, safety, and efficiency of the household.\n",
      "What is the use of dustbin in home?\n"
     ]
    }
   ],
   "source": [
    "for i in messages.data: \n",
    "    print(i.content[0].text.value)"
   ]
  },
  {
   "cell_type": "code",
   "execution_count": null,
   "id": "21a8583a",
   "metadata": {},
   "outputs": [],
   "source": []
  }
 ],
 "metadata": {
  "kernelspec": {
   "display_name": "Python 3 (ipykernel)",
   "language": "python",
   "name": "python3"
  },
  "language_info": {
   "codemirror_mode": {
    "name": "ipython",
    "version": 3
   },
   "file_extension": ".py",
   "mimetype": "text/x-python",
   "name": "python",
   "nbconvert_exporter": "python",
   "pygments_lexer": "ipython3",
   "version": "3.10.12"
  }
 },
 "nbformat": 4,
 "nbformat_minor": 5
}
